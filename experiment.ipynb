{
 "cells": [
  {
   "cell_type": "code",
   "execution_count": 1,
   "metadata": {},
   "outputs": [],
   "source": [
    "import warnings\n",
    "warnings.filterwarnings(\"ignore\")\n",
    "import os\n",
    "from recommender_tool import FashionOutfitGenerator\n",
    "from langchain.memory import ConversationBufferMemory\n",
    "from langchain.chat_models import ChatOpenAI\n",
    "from langchain.schema import SystemMessage\n",
    "from langchain.agents import initialize_agent\n",
    "from langchain.agents import AgentType\n",
    "from langchain.prompts import ChatPromptTemplate, HumanMessagePromptTemplate, MessagesPlaceholder, PromptTemplate\n",
    "from langchain.chains import ConversationalRetrievalChain,LLMChain, ConversationChain\n",
    "from langchain.chains.question_answering import load_qa_chain\n",
    "from config import *\n",
    "\n",
    "os.environ[\"OPENAI_API_KEY\"] = OPENAI_API_KEY"
   ]
  },
  {
   "cell_type": "code",
   "execution_count": 10,
   "metadata": {},
   "outputs": [],
   "source": [
    "memory = ConversationBufferMemory(memory_key=\"chat_history\",return_messages=True)\n",
    "llm = ChatOpenAI(temperature=0,openai_api_key=OPENAI_API_KEY)"
   ]
  },
  {
   "cell_type": "code",
   "execution_count": 11,
   "metadata": {},
   "outputs": [],
   "source": [
    "template = \"\"\"Given the following chat history between a User and AI,\n",
    "Rephrase the user input to be a standalone input or end the conversation if it seems like it's done.\n",
    "Chat History:\\\"\"\"\n",
    "{chat_history}\n",
    "\\\"\"\"\n",
    "User input: \\\"\"\"\n",
    "{input}\n",
    "\\\"\"\"\n",
    "Standalone input:\"\"\"\n",
    " \n",
    "condense_question_prompt = PromptTemplate(template=template,input_variables=[\"chat_history\", \"input\"])"
   ]
  },
  {
   "cell_type": "code",
   "execution_count": 12,
   "metadata": {},
   "outputs": [],
   "source": [
    "template = \"\"\"\n",
    "You are a friendly, conversational clothing shopping assistant.\n",
    "Use the following context to recommend the outfit with product names, descriptions, and keywords to show the shopper whats available, \n",
    "help find what they want, and answer any questions. Be descriptive in your answers.\n",
    "Context:\n",
    "\\\"\"\"\n",
    "{chat_history}\n",
    "\\\"\"\"\n",
    "Question:\\\"\n",
    "{input}\n",
    "\\\"\"\"\n",
    "Helpful answer:\n",
    "\"\"\"\n",
    "\n",
    "prompt = PromptTemplate.from_template(template=template)"
   ]
  },
  {
   "cell_type": "code",
   "execution_count": 13,
   "metadata": {},
   "outputs": [],
   "source": [
    "query_refiner = LLMChain(llm=llm,\n",
    "                         prompt=condense_question_prompt,\n",
    "                         verbose=False)\n",
    "main_llm_chain = LLMChain(llm=llm,\n",
    "                          prompt=prompt,\n",
    "                          verbose=False,memory=memory)\n",
    "                          "
   ]
  },
  {
   "cell_type": "code",
   "execution_count": 14,
   "metadata": {},
   "outputs": [],
   "source": [
    "def func(inp):\n",
    "    refined_query = query_refiner.run(input=inp,chat_history=memory.buffer_as_messages)\n",
    "    print(refined_query)\n",
    "    response = main_llm_chain.run(input=refined_query)\n",
    "    print(response)"
   ]
  },
  {
   "cell_type": "code",
   "execution_count": 15,
   "metadata": {},
   "outputs": [
    {
     "name": "stdout",
     "output_type": "stream",
     "text": [
      "Hi\n",
      "Hello! Welcome to our clothing store. How can I assist you today? Are you looking for a specific type of clothing or do you need help with styling?\n"
     ]
    }
   ],
   "source": [
    "func(\"Hi\")"
   ]
  },
  {
   "cell_type": "code",
   "execution_count": 16,
   "metadata": {},
   "outputs": [
    {
     "name": "stdout",
     "output_type": "stream",
     "text": [
      "Suggest some outfits for an investment banker.\n",
      "Of course! For an investment banker, it's important to dress professionally and exude confidence. Here's a stylish outfit suggestion:\n",
      "\n",
      "1. Suit: A well-tailored suit is a must-have for any investment banker. I recommend the \"Classic Navy Wool Suit\" from our premium collection. It features a slim-fit design, a two-button jacket, and flat-front trousers. This suit is made from high-quality wool fabric, ensuring both comfort and durability.\n",
      "\n",
      "2. Dress Shirt: Pair the suit with a crisp white dress shirt for a polished look. Our \"Slim-Fit White Dress Shirt\" is made from 100% cotton, offering a comfortable and breathable fit. It features a spread collar and French cuffs, adding a touch of sophistication.\n",
      "\n",
      "3. Tie: Complete the ensemble with a sleek tie. Our \"Navy Silk Tie with Subtle Pattern\" is a perfect choice. It adds a subtle pop of color and texture to the outfit, while still maintaining a professional appearance.\n",
      "\n",
      "4. Shoes: Opt for a pair of classic black oxford shoes to complement the suit. Our \"Black Leather Oxford Shoes\" are crafted from genuine leather and feature a timeless design. They provide both style and comfort for long days at the office.\n",
      "\n",
      "5. Accessories: To add a finishing touch, consider a stylish watch and a leather belt. Our \"Silver Stainless Steel Watch with Black Leather Strap\" is a sophisticated choice, while our \"Black Leather Belt with Silver Buckle\" complements the overall look.\n",
      "\n",
      "Remember, confidence is key in the business world, and this outfit will help you make a strong impression. Let me know if there's anything else I can assist you with!\n"
     ]
    }
   ],
   "source": [
    "func(\"Suggest some outfits for me. I am an investment banker\")"
   ]
  },
  {
   "cell_type": "code",
   "execution_count": 17,
   "metadata": {},
   "outputs": [
    {
     "name": "stdout",
     "output_type": "stream",
     "text": [
      "Can you suggest an alternative to the Navy Silk Tie?\n",
      "Certainly! If you're looking for an alternative to the Navy Silk Tie, I recommend our \"Burgundy Silk Tie with Geometric Pattern\". This tie adds a touch of color and visual interest to your outfit while still maintaining a professional appearance. It is made from high-quality silk and features a subtle geometric pattern that adds a modern twist. Pair it with the Classic Navy Wool Suit, Slim-Fit White Dress Shirt, and Black Leather Oxford Shoes for a stylish and confident look. Let me know if there's anything else I can assist you with!\n"
     ]
    }
   ],
   "source": [
    "func(\"Suggest something else instead of the Navy Silk Tie.\")"
   ]
  },
  {
   "cell_type": "code",
   "execution_count": 18,
   "metadata": {},
   "outputs": [
    {
     "name": "stdout",
     "output_type": "stream",
     "text": [
      "What is the pattern for the \"Burgundy Silk Tie with Geometric Pattern\"?\n",
      "The pattern for the \"Burgundy Silk Tie with Geometric Pattern\" is a subtle geometric pattern. This pattern adds a modern twist to the tie and adds visual interest to your outfit. It is a great alternative to the Navy Silk Tie and pairs well with the Classic Navy Wool Suit, Slim-Fit White Dress Shirt, and Black Leather Oxford Shoes. Let me know if there's anything else I can assist you with!\n"
     ]
    }
   ],
   "source": [
    "func(\"What is the pattern for this tie ?\")"
   ]
  },
  {
   "cell_type": "code",
   "execution_count": 19,
   "metadata": {},
   "outputs": [
    {
     "name": "stdout",
     "output_type": "stream",
     "text": [
      "Thanks for your assistance.\n",
      "You're welcome! I'm glad I could assist you. If you have any more questions or need further assistance, feel free to ask. Happy shopping!\n"
     ]
    }
   ],
   "source": [
    "func(\"Thanks.\")"
   ]
  },
  {
   "cell_type": "code",
   "execution_count": 20,
   "metadata": {},
   "outputs": [
    {
     "name": "stdout",
     "output_type": "stream",
     "text": [
      "What was the color of the tie?\n",
      "The color of the tie is burgundy.\n"
     ]
    }
   ],
   "source": [
    "func(\"Oh, by the way, what was tie's color?\")"
   ]
  },
  {
   "cell_type": "code",
   "execution_count": 21,
   "metadata": {},
   "outputs": [
    {
     "name": "stdout",
     "output_type": "stream",
     "text": [
      "What is the pattern for the \"Burgundy Silk Tie with Geometric Pattern\"?\n"
     ]
    },
    {
     "name": "stderr",
     "output_type": "stream",
     "text": [
      "Retrying langchain.chat_models.openai.ChatOpenAI.completion_with_retry.<locals>._completion_with_retry in 4.0 seconds as it raised RateLimitError: Rate limit reached for default-gpt-3.5-turbo in organization org-T5FOoUgGaJmatZrIQDka0Zlb on requests per min. Limit: 3 / min. Please try again in 20s. Contact us through our help center at help.openai.com if you continue to have issues. Please add a payment method to your account to increase your rate limit. Visit https://platform.openai.com/account/billing to add a payment method..\n"
     ]
    },
    {
     "name": "stdout",
     "output_type": "stream",
     "text": [
      "The pattern for the \"Burgundy Silk Tie with Geometric Pattern\" is a subtle geometric pattern. This pattern adds a modern twist to the tie and adds visual interest to your outfit. It is a great alternative to the Navy Silk Tie and pairs well with the Classic Navy Wool Suit, Slim-Fit White Dress Shirt, and Black Leather Oxford Shoes. Let me know if there's anything else I can assist you with!\n"
     ]
    }
   ],
   "source": [
    "func(\"And pattern ?\")"
   ]
  },
  {
   "cell_type": "code",
   "execution_count": 22,
   "metadata": {},
   "outputs": [
    {
     "name": "stdout",
     "output_type": "stream",
     "text": [
      "Human: Hi\n",
      "AI: Hello! Welcome to our clothing store. How can I assist you today? Are you looking for a specific type of clothing or do you need help with styling?\n",
      "Human: Suggest some outfits for an investment banker.\n",
      "AI: Of course! For an investment banker, it's important to dress professionally and exude confidence. Here's a stylish outfit suggestion:\n",
      "\n",
      "1. Suit: A well-tailored suit is a must-have for any investment banker. I recommend the \"Classic Navy Wool Suit\" from our premium collection. It features a slim-fit design, a two-button jacket, and flat-front trousers. This suit is made from high-quality wool fabric, ensuring both comfort and durability.\n",
      "\n",
      "2. Dress Shirt: Pair the suit with a crisp white dress shirt for a polished look. Our \"Slim-Fit White Dress Shirt\" is made from 100% cotton, offering a comfortable and breathable fit. It features a spread collar and French cuffs, adding a touch of sophistication.\n",
      "\n",
      "3. Tie: Complete the ensemble with a sleek tie. Our \"Navy Silk Tie with Subtle Pattern\" is a perfect choice. It adds a subtle pop of color and texture to the outfit, while still maintaining a professional appearance.\n",
      "\n",
      "4. Shoes: Opt for a pair of classic black oxford shoes to complement the suit. Our \"Black Leather Oxford Shoes\" are crafted from genuine leather and feature a timeless design. They provide both style and comfort for long days at the office.\n",
      "\n",
      "5. Accessories: To add a finishing touch, consider a stylish watch and a leather belt. Our \"Silver Stainless Steel Watch with Black Leather Strap\" is a sophisticated choice, while our \"Black Leather Belt with Silver Buckle\" complements the overall look.\n",
      "\n",
      "Remember, confidence is key in the business world, and this outfit will help you make a strong impression. Let me know if there's anything else I can assist you with!\n",
      "Human: Can you suggest an alternative to the Navy Silk Tie?\n",
      "AI: Certainly! If you're looking for an alternative to the Navy Silk Tie, I recommend our \"Burgundy Silk Tie with Geometric Pattern\". This tie adds a touch of color and visual interest to your outfit while still maintaining a professional appearance. It is made from high-quality silk and features a subtle geometric pattern that adds a modern twist. Pair it with the Classic Navy Wool Suit, Slim-Fit White Dress Shirt, and Black Leather Oxford Shoes for a stylish and confident look. Let me know if there's anything else I can assist you with!\n",
      "Human: What is the pattern for the \"Burgundy Silk Tie with Geometric Pattern\"?\n",
      "AI: The pattern for the \"Burgundy Silk Tie with Geometric Pattern\" is a subtle geometric pattern. This pattern adds a modern twist to the tie and adds visual interest to your outfit. It is a great alternative to the Navy Silk Tie and pairs well with the Classic Navy Wool Suit, Slim-Fit White Dress Shirt, and Black Leather Oxford Shoes. Let me know if there's anything else I can assist you with!\n",
      "Human: Thanks for your assistance.\n",
      "AI: You're welcome! I'm glad I could assist you. If you have any more questions or need further assistance, feel free to ask. Happy shopping!\n",
      "Human: What was the color of the tie?\n",
      "AI: The color of the tie is burgundy.\n",
      "Human: What is the pattern for the \"Burgundy Silk Tie with Geometric Pattern\"?\n",
      "AI: The pattern for the \"Burgundy Silk Tie with Geometric Pattern\" is a subtle geometric pattern. This pattern adds a modern twist to the tie and adds visual interest to your outfit. It is a great alternative to the Navy Silk Tie and pairs well with the Classic Navy Wool Suit, Slim-Fit White Dress Shirt, and Black Leather Oxford Shoes. Let me know if there's anything else I can assist you with!\n"
     ]
    }
   ],
   "source": [
    "print(memory.buffer_as_str)"
   ]
  },
  {
   "cell_type": "code",
   "execution_count": null,
   "metadata": {},
   "outputs": [],
   "source": []
  }
 ],
 "metadata": {
  "kernelspec": {
   "display_name": "base",
   "language": "python",
   "name": "python3"
  },
  "language_info": {
   "codemirror_mode": {
    "name": "ipython",
    "version": 3
   },
   "file_extension": ".py",
   "mimetype": "text/x-python",
   "name": "python",
   "nbconvert_exporter": "python",
   "pygments_lexer": "ipython3",
   "version": "3.11.4"
  },
  "orig_nbformat": 4
 },
 "nbformat": 4,
 "nbformat_minor": 2
}
