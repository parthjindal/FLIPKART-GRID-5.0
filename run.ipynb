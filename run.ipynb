{
 "cells": [
  {
   "cell_type": "code",
   "execution_count": 1,
   "metadata": {},
   "outputs": [],
   "source": [
    "import warnings\n",
    "warnings.filterwarnings(\"ignore\")\n",
    "import os\n",
    "from recommender_tool import FashionOutfitGenerator\n",
    "from langchain.memory import ConversationBufferMemory\n",
    "from langchain.chat_models import ChatOpenAI\n",
    "from langchain.schema import SystemMessage\n",
    "from langchain.agents import initialize_agent\n",
    "from langchain.agents import AgentType\n",
    "from langchain.prompts import ChatPromptTemplate, HumanMessagePromptTemplate, MessagesPlaceholder\n",
    "from langchain.chains import ConversationalRetrievalChain,LLMChain\n",
    "from langchain.chains.question_answering import load_qa_chain\n",
    "from config import *\n",
    "from langchain.vectorstores.redis import Redis\n",
    "from langchain.embeddings.openai import OpenAIEmbeddings\n",
    "import requests\n",
    "\n",
    "os.environ[\"OPENAI_API_KEY\"] = OPENAI_API_KEY1"
   ]
  },
  {
   "cell_type": "code",
   "execution_count": 2,
   "metadata": {},
   "outputs": [],
   "source": [
    "REDIS_URL = 'redis://localhost:6380'"
   ]
  },
  {
   "cell_type": "code",
   "execution_count": 3,
   "metadata": {},
   "outputs": [],
   "source": [
    "search_terms = [\n",
    "    'lehenga',\n",
    "    'saree',\n",
    "    't-shirt',\n",
    "    'shirt',\n",
    "    'jeans',\n",
    "    'shorts',\n",
    "    'crop-tops',\n",
    "    'jackets',\n",
    "    'sweatshirts',\n",
    "    'plazzo',\n",
    "    'salwar',\n",
    "    'churidar',\n",
    "    'dhoti',\n",
    "    'jumpsuit',\n",
    "    'blazer',\n",
    "    'coat',\n",
    "    'sweater',\n",
    "    'shrug',\n",
    "]"
   ]
  },
  {
   "cell_type": "code",
   "execution_count": 4,
   "metadata": {},
   "outputs": [],
   "source": [
    "def search_flipkart( search_term):\n",
    "    URL = f\"https://9d5f-13-233-172-64.ngrok-free.app/search/{search_term}\"\n",
    "    response = requests.get(URL).json()\n",
    "    responses = response[\"result\"]\n",
    "    return responses"
   ]
  },
  {
   "cell_type": "code",
   "execution_count": 9,
   "metadata": {},
   "outputs": [],
   "source": [
    "texts = []\n",
    "metadatas = []\n",
    "for search_term in search_terms:\n",
    "    results = search_flipkart(search_term)\n",
    "    texts.extend([result[\"name\"] for result in results])\n",
    "    metadatas.extend(results)"
   ]
  },
  {
   "cell_type": "code",
   "execution_count": 10,
   "metadata": {},
   "outputs": [
    {
     "name": "stdout",
     "output_type": "stream",
     "text": [
      "{'name': 'Women Half Sleeve Blue Shrug', 'link': 'https://www.flipkart.com/raagvisha-women-shrug/p/itm3d9277448e515', 'current_price': 742, 'original_price': 1999, 'discounted': True, 'thumbnail': [], 'query_url': 'https://flipkart.com/product/raagvisha-women-shrug/p/itm3d9277448e515'}\n"
     ]
    }
   ],
   "source": [
    "print(results[0])"
   ]
  },
  {
   "cell_type": "code",
   "execution_count": 6,
   "metadata": {},
   "outputs": [],
   "source": [
    "embeddings = OpenAIEmbeddings()\n",
    "vectorstore = Redis.from_existing_index(\n",
    "    index_name=INDEX_NAME,\n",
    "    embedding=embeddings,\n",
    "    redis_url=\"redis://@localhost:6380\",\n",
    ")"
   ]
  },
  {
   "cell_type": "code",
   "execution_count": 7,
   "metadata": {},
   "outputs": [
    {
     "data": {
      "text/plain": [
       "[Document(page_content='Digital Print Semi Stitched Lehenga &amp; Crop Top', metadata={'uuid': '4a65bc1a-618e-4e5f-9e9b-152c0a9390e8', 'id': 'doc:database-index:9788892b90024b0cb253df172865191c'}),\n",
       " Document(page_content='Embroidered Semi Stitched Lehenga &amp; Crop Top', metadata={'uuid': 'f5c13e78-3116-4d09-904b-bf00eb75ad59', 'id': 'doc:database-index:cc126c46c7a8417d89d3663f92a00205'}),\n",
       " Document(page_content='Printed Semi Stitched Lehenga Choli', metadata={'uuid': '75801468-9c6a-473d-b35c-43a4819299b7', 'id': 'doc:database-index:ca8c389557814e1f8f8cc07d6387e1ec'}),\n",
       " Document(page_content='Printed Semi Stitched Lehenga Choli', metadata={'uuid': '6dea472c-2e34-4ed7-ba9c-14f39e1adc36', 'id': 'doc:database-index:3878cb6512e846ff8cf216dd5bbd9212'})]"
      ]
     },
     "execution_count": 7,
     "metadata": {},
     "output_type": "execute_result"
    }
   ],
   "source": [
    "vectorstore.search(\"cotton shirt\",search_type=\"similarity\")"
   ]
  },
  {
   "cell_type": "code",
   "execution_count": null,
   "metadata": {},
   "outputs": [],
   "source": []
  },
  {
   "cell_type": "code",
   "execution_count": 148,
   "metadata": {},
   "outputs": [],
   "source": [
    "memory = VectorStoreRetrieverMemory(retriever=retriever,memory_key=\"history\")"
   ]
  },
  {
   "cell_type": "code",
   "execution_count": 149,
   "metadata": {},
   "outputs": [],
   "source": [
    "_DEFAULT_TEMPLATE = \"\"\"The following is a friendly conversation between a human and an AI. The AI is talkative \n",
    "and provides lots of specific details from its context. \n",
    "If the AI does not know the answer to a question, it truthfully says it does not know.\n",
    "\n",
    "Relevant pieces of previous conversation:\n",
    "{history}\n",
    "\n",
    "(You do not need to use these pieces of information if not relevant)\n",
    "\n",
    "Current conversation:\n",
    "Human: {input}\n",
    "AI:\"\"\"\n",
    "PROMPT = PromptTemplate(\n",
    "    input_variables=[\"history\", \"input\"], template=_DEFAULT_TEMPLATE\n",
    ")"
   ]
  },
  {
   "cell_type": "code",
   "execution_count": 150,
   "metadata": {},
   "outputs": [],
   "source": [
    "llm = ChatOpenAI(temperature=0)\n",
    "llmchain = ConversationChain(llm=llm,memory=memory,verbose=True,prompt=PROMPT)"
   ]
  },
  {
   "cell_type": "code",
   "execution_count": 151,
   "metadata": {},
   "outputs": [
    {
     "name": "stdout",
     "output_type": "stream",
     "text": [
      "\n",
      "\n",
      "\u001b[1m> Entering new ConversationChain chain...\u001b[0m\n",
      "Prompt after formatting:\n",
      "\u001b[32;1m\u001b[1;3mThe following is a friendly conversation between a human and an AI. The AI is talkative and provides lots of specific details from its context. If the AI does not know the answer to a question, it truthfully says it does not know.\n",
      "\n",
      "Relevant pieces of previous conversation:\n",
      "input: Hi\n",
      "response: Hello! How can I assist you today?\n",
      "input: What is my age ?\n",
      "response: Your age is 12.\n",
      "input: What is my age ?\n",
      "response: Your age is 12.\n",
      "input: What is my age ?\n",
      "response: Your age is 12.\n",
      "\n",
      "(You do not need to use these pieces of information if not relevant)\n",
      "\n",
      "Current conversation:\n",
      "Human: Hi, Suggest me an outfit for a party.\n",
      "AI:\u001b[0m\n",
      "\n",
      "\u001b[1m> Finished chain.\u001b[0m\n"
     ]
    },
    {
     "data": {
      "text/plain": [
       "\"Hello! I'd be happy to help you find an outfit for a party. Could you please provide me with some more information? What is the dress code for the party? Is there a specific theme or color scheme?\""
      ]
     },
     "execution_count": 151,
     "metadata": {},
     "output_type": "execute_result"
    }
   ],
   "source": [
    "llmchain.predict(input=\"Hi, Suggest me an outfit for a party.\")"
   ]
  },
  {
   "cell_type": "code",
   "execution_count": 153,
   "metadata": {},
   "outputs": [
    {
     "name": "stdout",
     "output_type": "stream",
     "text": [
      "\n",
      "\n",
      "\u001b[1m> Entering new ConversationChain chain...\u001b[0m\n",
      "Prompt after formatting:\n",
      "\u001b[32;1m\u001b[1;3mThe following is a friendly conversation between a human and an AI. The AI is talkative and provides lots of specific details from its context. If the AI does not know the answer to a question, it truthfully says it does not know.\n",
      "\n",
      "Relevant pieces of previous conversation:\n",
      "input: Hi, Suggest me an outfit for a party.\n",
      "response: Hello! I'd be happy to help you find an outfit for a party. Could you please provide me with some more information? What is the dress code for the party? Is there a specific theme or color scheme?\n",
      "input: What is my age ?\n",
      "response: Your age is 12.\n",
      "input: What is my age ?\n",
      "response: Your age is 12.\n",
      "input: What is my age ?\n",
      "response: Your age is 12.\n",
      "\n",
      "(You do not need to use these pieces of information if not relevant)\n",
      "\n",
      "Current conversation:\n",
      "Human: The party is a summer swimming pool party.\n",
      "AI:\u001b[0m\n",
      "\n",
      "\u001b[1m> Finished chain.\u001b[0m\n"
     ]
    },
    {
     "data": {
      "text/plain": [
       "\"That sounds like a fun event! For a summer swimming pool party, you'll want to wear something comfortable and appropriate for the water. A popular choice is a swimsuit or bikini paired with a stylish cover-up or sarong. You can also consider wearing a lightweight sundress or a tank top with shorts. Don't forget to bring a towel, sunscreen, and a pair of flip-flops or sandals for the poolside. Enjoy the party and have a great time!\""
      ]
     },
     "execution_count": 153,
     "metadata": {},
     "output_type": "execute_result"
    }
   ],
   "source": [
    "llmchain.predict(input=\"The party is a summer swimming pool party.\")"
   ]
  },
  {
   "cell_type": "code",
   "execution_count": 154,
   "metadata": {},
   "outputs": [
    {
     "name": "stdout",
     "output_type": "stream",
     "text": [
      "\n",
      "\n",
      "\u001b[1m> Entering new ConversationChain chain...\u001b[0m\n",
      "Prompt after formatting:\n",
      "\u001b[32;1m\u001b[1;3mThe following is a friendly conversation between a human and an AI. The AI is talkative and provides lots of specific details from its context. If the AI does not know the answer to a question, it truthfully says it does not know.\n",
      "\n",
      "Relevant pieces of previous conversation:\n",
      "input: The party is a summer swimming pool party.\n",
      "response: That sounds like a fun event! For a summer swimming pool party, you'll want to wear something comfortable and appropriate for the water. A popular choice is a swimsuit or bikini paired with a stylish cover-up or sarong. You can also consider wearing a lightweight sundress or a tank top with shorts. Don't forget to bring a towel, sunscreen, and a pair of flip-flops or sandals for the poolside. Enjoy the party and have a great time!\n",
      "input: Hi, Suggest me an outfit for a party.\n",
      "response: Hello! I'd be happy to help you find an outfit for a party. Could you please provide me with some more information? What is the dress code for the party? Is there a specific theme or color scheme?\n",
      "input: Hi\n",
      "response: Hello! How can I assist you today?\n",
      "input: What is my age ?\n",
      "response: Your age is 12.\n",
      "\n",
      "(You do not need to use these pieces of information if not relevant)\n",
      "\n",
      "Current conversation:\n",
      "Human: Suggest something else instead of tank top.\n",
      "AI:\u001b[0m\n",
      "\n",
      "\u001b[1m> Finished chain.\u001b[0m\n"
     ]
    },
    {
     "data": {
      "text/plain": [
       "\"Sure! Instead of a tank top, you could consider wearing a lightweight blouse or a flowy tunic. These options will still keep you cool and comfortable for the summer swimming pool party. Another alternative could be a crop top paired with high-waisted shorts or a skirt. This will give you a trendy and stylish look while still being appropriate for the occasion. Don't forget to accessorize with some statement jewelry or a cute hat to complete your outfit!\""
      ]
     },
     "execution_count": 154,
     "metadata": {},
     "output_type": "execute_result"
    }
   ],
   "source": [
    "llmchain.predict(input=\"Suggest something else instead of tank top.\")"
   ]
  },
  {
   "cell_type": "code",
   "execution_count": 155,
   "metadata": {},
   "outputs": [
    {
     "name": "stdout",
     "output_type": "stream",
     "text": [
      "\n",
      "\n",
      "\u001b[1m> Entering new ConversationChain chain...\u001b[0m\n",
      "Prompt after formatting:\n",
      "\u001b[32;1m\u001b[1;3mThe following is a friendly conversation between a human and an AI. The AI is talkative and provides lots of specific details from its context. If the AI does not know the answer to a question, it truthfully says it does not know.\n",
      "\n",
      "Relevant pieces of previous conversation:\n",
      "input: Hi, Suggest me an outfit for a party.\n",
      "response: Hello! I'd be happy to help you find an outfit for a party. Could you please provide me with some more information? What is the dress code for the party? Is there a specific theme or color scheme?\n",
      "input: The party is a summer swimming pool party.\n",
      "response: That sounds like a fun event! For a summer swimming pool party, you'll want to wear something comfortable and appropriate for the water. A popular choice is a swimsuit or bikini paired with a stylish cover-up or sarong. You can also consider wearing a lightweight sundress or a tank top with shorts. Don't forget to bring a towel, sunscreen, and a pair of flip-flops or sandals for the poolside. Enjoy the party and have a great time!\n",
      "input: Suggest something else instead of tank top.\n",
      "response: Sure! Instead of a tank top, you could consider wearing a lightweight blouse or a flowy tunic. These options will still keep you cool and comfortable for the summer swimming pool party. Another alternative could be a crop top paired with high-waisted shorts or a skirt. This will give you a trendy and stylish look while still being appropriate for the occasion. Don't forget to accessorize with some statement jewelry or a cute hat to complete your outfit!\n",
      "input: My age is 12 remember it\n",
      "response: Of course! I have noted that you are 12 years old. Is there anything specific you would like to talk about or ask me?\n",
      "\n",
      "(You do not need to use these pieces of information if not relevant)\n",
      "\n",
      "Current conversation:\n",
      "Human: Alright, Summarize the final outfit then.\n",
      "AI:\u001b[0m\n",
      "\n",
      "\u001b[1m> Finished chain.\u001b[0m\n"
     ]
    },
    {
     "data": {
      "text/plain": [
       "\"Certainly! For your summer swimming pool party, the final outfit could be a stylish swimsuit or bikini paired with a lightweight blouse or flowy tunic. This will keep you cool and comfortable while still being appropriate for the occasion. You can also consider wearing high-waisted shorts or a skirt with a crop top for a trendy and stylish look. Don't forget to accessorize with statement jewelry or a cute hat to complete your outfit. And remember to bring a towel, sunscreen, and a pair of flip-flops or sandals for the poolside. Have a fantastic time at the party!\""
      ]
     },
     "execution_count": 155,
     "metadata": {},
     "output_type": "execute_result"
    }
   ],
   "source": [
    "llmchain.predict(input=\"Alright, Summarize the final outfit then.\")"
   ]
  },
  {
   "cell_type": "code",
   "execution_count": 157,
   "metadata": {},
   "outputs": [
    {
     "name": "stdout",
     "output_type": "stream",
     "text": [
      "\n",
      "\n",
      "\u001b[1m> Entering new ConversationChain chain...\u001b[0m\n",
      "Prompt after formatting:\n",
      "\u001b[32;1m\u001b[1;3mThe following is a friendly conversation between a human and an AI. The AI is talkative and provides lots of specific details from its context. If the AI does not know the answer to a question, it truthfully says it does not know.\n",
      "\n",
      "Relevant pieces of previous conversation:\n",
      "input: Suggest something else instead of tank top.\n",
      "response: Sure! Instead of a tank top, you could consider wearing a lightweight blouse or a flowy tunic. These options will still keep you cool and comfortable for the summer swimming pool party. Another alternative could be a crop top paired with high-waisted shorts or a skirt. This will give you a trendy and stylish look while still being appropriate for the occasion. Don't forget to accessorize with some statement jewelry or a cute hat to complete your outfit!\n",
      "input: Hi, Suggest me an outfit for a party.\n",
      "response: Hello! I'd be happy to help you find an outfit for a party. Could you please provide me with some more information? What is the dress code for the party? Is there a specific theme or color scheme?\n",
      "input: Alright, Summarize the final outfit then.\n",
      "response: Certainly! For your summer swimming pool party, the final outfit could be a stylish swimsuit or bikini paired with a lightweight blouse or flowy tunic. This will keep you cool and comfortable while still being appropriate for the occasion. You can also consider wearing high-waisted shorts or a skirt with a crop top for a trendy and stylish look. Don't forget to accessorize with statement jewelry or a cute hat to complete your outfit. And remember to bring a towel, sunscreen, and a pair of flip-flops or sandals for the poolside. Have a fantastic time at the party!\n",
      "input: The party is a summer swimming pool party.\n",
      "response: That sounds like a fun event! For a summer swimming pool party, you'll want to wear something comfortable and appropriate for the water. A popular choice is a swimsuit or bikini paired with a stylish cover-up or sarong. You can also consider wearing a lightweight sundress or a tank top with shorts. Don't forget to bring a towel, sunscreen, and a pair of flip-flops or sandals for the poolside. Enjoy the party and have a great time!\n",
      "\n",
      "(You do not need to use these pieces of information if not relevant)\n",
      "\n",
      "Current conversation:\n",
      "Human: Suggest me the earlier option instead of the blouse.\n",
      "AI:\u001b[0m\n",
      "\n",
      "\u001b[1m> Finished chain.\u001b[0m\n"
     ]
    },
    {
     "data": {
      "text/plain": [
       "\"Sure! Instead of the blouse, you could consider wearing a lightweight tunic or a flowy dress. These options will still keep you cool and comfortable for the summer swimming pool party. Another alternative could be a crop top paired with high-waisted shorts or a skirt. This will give you a trendy and stylish look while still being appropriate for the occasion. Don't forget to accessorize with some statement jewelry or a cute hat to complete your outfit!\""
      ]
     },
     "execution_count": 157,
     "metadata": {},
     "output_type": "execute_result"
    }
   ],
   "source": [
    "llmchain.predict(input=\"Suggest me the earlier option instead of the blouse.\")"
   ]
  },
  {
   "cell_type": "code",
   "execution_count": null,
   "metadata": {},
   "outputs": [],
   "source": []
  },
  {
   "cell_type": "markdown",
   "metadata": {},
   "source": []
  },
  {
   "cell_type": "code",
   "execution_count": null,
   "metadata": {},
   "outputs": [],
   "source": []
  },
  {
   "cell_type": "code",
   "execution_count": null,
   "metadata": {},
   "outputs": [],
   "source": []
  }
 ],
 "metadata": {
  "kernelspec": {
   "display_name": "Python 3",
   "language": "python",
   "name": "python3"
  },
  "language_info": {
   "codemirror_mode": {
    "name": "ipython",
    "version": 3
   },
   "file_extension": ".py",
   "mimetype": "text/x-python",
   "name": "python",
   "nbconvert_exporter": "python",
   "pygments_lexer": "ipython3",
   "version": "3.11.4"
  },
  "orig_nbformat": 4
 },
 "nbformat": 4,
 "nbformat_minor": 2
}
