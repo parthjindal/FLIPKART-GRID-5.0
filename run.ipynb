{
 "cells": [
  {
   "cell_type": "code",
   "execution_count": 1,
   "metadata": {},
   "outputs": [],
   "source": [
    "import warnings\n",
    "warnings.filterwarnings(\"ignore\")\n",
    "import os\n",
    "from recommender_tool import FashionOutfitGenerator\n",
    "from langchain.memory import ConversationBufferMemory\n",
    "from langchain.chat_models import ChatOpenAI\n",
    "from langchain.schema import SystemMessage\n",
    "from langchain.agents import initialize_agent\n",
    "from langchain.agents import AgentType\n",
    "from langchain.prompts import ChatPromptTemplate, HumanMessagePromptTemplate, MessagesPlaceholder\n",
    "from langchain.chains import ConversationalRetrievalChain,LLMChain\n",
    "from langchain.chains.question_answering import load_qa_chain\n",
    "from config import *\n",
    "\n",
    "os.environ[\"OPENAI_API_KEY\"] = OPENAI_API_KEY"
   ]
  },
  {
   "cell_type": "code",
   "execution_count": 2,
   "metadata": {},
   "outputs": [],
   "source": [
    "memory = ConversationBufferMemory(memory_key=\"chat_history\",return_messages=True)\n",
    "llm = ChatOpenAI(temperature=0,openai_api_key=OPENAI_API_KEY)"
   ]
  },
  {
   "cell_type": "code",
   "execution_count": 3,
   "metadata": {},
   "outputs": [],
   "source": [
    "from langchain.prompts.prompt import PromptTemplate\n",
    "\n",
    "_template = \"\"\"\n",
    "You are a friendly, conversational clothing shopping assistant.\n",
    "Use the following context to recommend the outfit with product names, descriptions, and keywords to show the shopper whats available, \n",
    "help find what they want, and answer any questions. Be descriptive in your answers.\n",
    "Context:\n",
    "\\\"\"\"\n",
    "{context}\n",
    "\\\"\"\"\n",
    "Question:\\\"\n",
    "\\\"\"\"\n",
    "Helpful answer:\n",
    "\"\"\"\n",
    "\n",
    "QA_TEMPLATE = PromptTemplate.from_template(_template)"
   ]
  },
  {
   "cell_type": "code",
   "execution_count": 4,
   "metadata": {},
   "outputs": [],
   "source": [
    "llm_chain = load_qa_chain(llm,verbose=True)"
   ]
  },
  {
   "cell_type": "code",
   "execution_count": 5,
   "metadata": {},
   "outputs": [
    {
     "ename": "ValueError",
     "evalue": "Missing some input keys: {'question', 'input_documents'}",
     "output_type": "error",
     "traceback": [
      "\u001b[0;31m---------------------------------------------------------------------------\u001b[0m",
      "\u001b[0;31mValueError\u001b[0m                                Traceback (most recent call last)",
      "Cell \u001b[0;32mIn[5], line 1\u001b[0m\n\u001b[0;32m----> 1\u001b[0m llm_chain\u001b[39m.\u001b[39mrun({\u001b[39m\"\u001b[39m\u001b[39mcontext\u001b[39m\u001b[39m\"\u001b[39m:\u001b[39m\"\u001b[39m\u001b[39mHi, How may I assist you\u001b[39m\u001b[39m\"\u001b[39m})\n",
      "File \u001b[0;32m~/anaconda3/lib/python3.11/site-packages/langchain/chains/base.py:475\u001b[0m, in \u001b[0;36mChain.run\u001b[0;34m(self, callbacks, tags, metadata, *args, **kwargs)\u001b[0m\n\u001b[1;32m    473\u001b[0m     \u001b[39mif\u001b[39;00m \u001b[39mlen\u001b[39m(args) \u001b[39m!=\u001b[39m \u001b[39m1\u001b[39m:\n\u001b[1;32m    474\u001b[0m         \u001b[39mraise\u001b[39;00m \u001b[39mValueError\u001b[39;00m(\u001b[39m\"\u001b[39m\u001b[39m`run` supports only one positional argument.\u001b[39m\u001b[39m\"\u001b[39m)\n\u001b[0;32m--> 475\u001b[0m     \u001b[39mreturn\u001b[39;00m \u001b[39mself\u001b[39m(args[\u001b[39m0\u001b[39m], callbacks\u001b[39m=\u001b[39mcallbacks, tags\u001b[39m=\u001b[39mtags, metadata\u001b[39m=\u001b[39mmetadata)[\n\u001b[1;32m    476\u001b[0m         _output_key\n\u001b[1;32m    477\u001b[0m     ]\n\u001b[1;32m    479\u001b[0m \u001b[39mif\u001b[39;00m kwargs \u001b[39mand\u001b[39;00m \u001b[39mnot\u001b[39;00m args:\n\u001b[1;32m    480\u001b[0m     \u001b[39mreturn\u001b[39;00m \u001b[39mself\u001b[39m(kwargs, callbacks\u001b[39m=\u001b[39mcallbacks, tags\u001b[39m=\u001b[39mtags, metadata\u001b[39m=\u001b[39mmetadata)[\n\u001b[1;32m    481\u001b[0m         _output_key\n\u001b[1;32m    482\u001b[0m     ]\n",
      "File \u001b[0;32m~/anaconda3/lib/python3.11/site-packages/langchain/chains/base.py:259\u001b[0m, in \u001b[0;36mChain.__call__\u001b[0;34m(self, inputs, return_only_outputs, callbacks, tags, metadata, include_run_info)\u001b[0m\n\u001b[1;32m    224\u001b[0m \u001b[39mdef\u001b[39;00m \u001b[39m__call__\u001b[39m(\n\u001b[1;32m    225\u001b[0m     \u001b[39mself\u001b[39m,\n\u001b[1;32m    226\u001b[0m     inputs: Union[Dict[\u001b[39mstr\u001b[39m, Any], Any],\n\u001b[0;32m   (...)\u001b[0m\n\u001b[1;32m    232\u001b[0m     include_run_info: \u001b[39mbool\u001b[39m \u001b[39m=\u001b[39m \u001b[39mFalse\u001b[39;00m,\n\u001b[1;32m    233\u001b[0m ) \u001b[39m-\u001b[39m\u001b[39m>\u001b[39m Dict[\u001b[39mstr\u001b[39m, Any]:\n\u001b[1;32m    234\u001b[0m \u001b[39m    \u001b[39m\u001b[39m\"\"\"Execute the chain.\u001b[39;00m\n\u001b[1;32m    235\u001b[0m \n\u001b[1;32m    236\u001b[0m \u001b[39m    Args:\u001b[39;00m\n\u001b[0;32m   (...)\u001b[0m\n\u001b[1;32m    257\u001b[0m \u001b[39m            `Chain.output_keys`.\u001b[39;00m\n\u001b[1;32m    258\u001b[0m \u001b[39m    \"\"\"\u001b[39;00m\n\u001b[0;32m--> 259\u001b[0m     inputs \u001b[39m=\u001b[39m \u001b[39mself\u001b[39m\u001b[39m.\u001b[39mprep_inputs(inputs)\n\u001b[1;32m    260\u001b[0m     callback_manager \u001b[39m=\u001b[39m CallbackManager\u001b[39m.\u001b[39mconfigure(\n\u001b[1;32m    261\u001b[0m         callbacks,\n\u001b[1;32m    262\u001b[0m         \u001b[39mself\u001b[39m\u001b[39m.\u001b[39mcallbacks,\n\u001b[0;32m   (...)\u001b[0m\n\u001b[1;32m    267\u001b[0m         \u001b[39mself\u001b[39m\u001b[39m.\u001b[39mmetadata,\n\u001b[1;32m    268\u001b[0m     )\n\u001b[1;32m    269\u001b[0m     new_arg_supported \u001b[39m=\u001b[39m inspect\u001b[39m.\u001b[39msignature(\u001b[39mself\u001b[39m\u001b[39m.\u001b[39m_call)\u001b[39m.\u001b[39mparameters\u001b[39m.\u001b[39mget(\u001b[39m\"\u001b[39m\u001b[39mrun_manager\u001b[39m\u001b[39m\"\u001b[39m)\n",
      "File \u001b[0;32m~/anaconda3/lib/python3.11/site-packages/langchain/chains/base.py:413\u001b[0m, in \u001b[0;36mChain.prep_inputs\u001b[0;34m(self, inputs)\u001b[0m\n\u001b[1;32m    411\u001b[0m     external_context \u001b[39m=\u001b[39m \u001b[39mself\u001b[39m\u001b[39m.\u001b[39mmemory\u001b[39m.\u001b[39mload_memory_variables(inputs)\n\u001b[1;32m    412\u001b[0m     inputs \u001b[39m=\u001b[39m \u001b[39mdict\u001b[39m(inputs, \u001b[39m*\u001b[39m\u001b[39m*\u001b[39mexternal_context)\n\u001b[0;32m--> 413\u001b[0m \u001b[39mself\u001b[39m\u001b[39m.\u001b[39m_validate_inputs(inputs)\n\u001b[1;32m    414\u001b[0m \u001b[39mreturn\u001b[39;00m inputs\n",
      "File \u001b[0;32m~/anaconda3/lib/python3.11/site-packages/langchain/chains/base.py:171\u001b[0m, in \u001b[0;36mChain._validate_inputs\u001b[0;34m(self, inputs)\u001b[0m\n\u001b[1;32m    169\u001b[0m missing_keys \u001b[39m=\u001b[39m \u001b[39mset\u001b[39m(\u001b[39mself\u001b[39m\u001b[39m.\u001b[39minput_keys)\u001b[39m.\u001b[39mdifference(inputs)\n\u001b[1;32m    170\u001b[0m \u001b[39mif\u001b[39;00m missing_keys:\n\u001b[0;32m--> 171\u001b[0m     \u001b[39mraise\u001b[39;00m \u001b[39mValueError\u001b[39;00m(\u001b[39mf\u001b[39m\u001b[39m\"\u001b[39m\u001b[39mMissing some input keys: \u001b[39m\u001b[39m{\u001b[39;00mmissing_keys\u001b[39m}\u001b[39;00m\u001b[39m\"\u001b[39m)\n",
      "\u001b[0;31mValueError\u001b[0m: Missing some input keys: {'question', 'input_documents'}"
     ]
    }
   ],
   "source": [
    "llm_chain.run({\"context\":\"Hi, How may I assist you\"})"
   ]
  },
  {
   "cell_type": "code",
   "execution_count": null,
   "metadata": {},
   "outputs": [],
   "source": [
    "from datetime import datetime\n",
    "from langchain.embeddings.openai import OpenAIEmbeddings\n",
    "from langchain.llms import OpenAI\n",
    "from langchain.memory import VectorStoreRetrieverMemory\n",
    "from langchain.chains import ConversationChain\n",
    "from langchain.prompts import PromptTemplate\n",
    "import langchain"
   ]
  },
  {
   "cell_type": "code",
   "execution_count": null,
   "metadata": {},
   "outputs": [
    {
     "ename": "ModuleNotFoundError",
     "evalue": "No module named 'faiss'",
     "output_type": "error",
     "traceback": [
      "\u001b[0;31m---------------------------------------------------------------------------\u001b[0m",
      "\u001b[0;31mModuleNotFoundError\u001b[0m                       Traceback (most recent call last)",
      "Cell \u001b[0;32mIn[7], line 1\u001b[0m\n\u001b[0;32m----> 1\u001b[0m \u001b[39mimport\u001b[39;00m \u001b[39mfaiss\u001b[39;00m\n\u001b[1;32m      3\u001b[0m \u001b[39mfrom\u001b[39;00m \u001b[39mlangchain\u001b[39;00m\u001b[39m.\u001b[39;00m\u001b[39mdocstore\u001b[39;00m \u001b[39mimport\u001b[39;00m InMemoryDocstore\n\u001b[1;32m      4\u001b[0m \u001b[39mfrom\u001b[39;00m \u001b[39mlangchain\u001b[39;00m\u001b[39m.\u001b[39;00m\u001b[39mvectorstores\u001b[39;00m \u001b[39mimport\u001b[39;00m FAISS\n",
      "\u001b[0;31mModuleNotFoundError\u001b[0m: No module named 'faiss'"
     ]
    }
   ],
   "source": [
    "import faiss\n",
    "\n",
    "from langchain.docstore import InMemoryDocstore\n",
    "from langchain.vectorstores import FAISS\n",
    "\n",
    "\n",
    "embedding_size = 1536 # Dimensions of the OpenAIEmbeddings\n",
    "index = faiss.Index(embedding_size)\n",
    "embedding_fn = OpenAIEmbeddings().embed_query\n",
    "vectorstore = FAISS(embedding_fn, index, InMemoryDocstore({}), {})"
   ]
  },
  {
   "cell_type": "code",
   "execution_count": null,
   "metadata": {},
   "outputs": [],
   "source": []
  },
  {
   "cell_type": "code",
   "execution_count": null,
   "metadata": {},
   "outputs": [
    {
     "ename": "NameError",
     "evalue": "name 'vectorstore' is not defined",
     "output_type": "error",
     "traceback": [
      "\u001b[0;31m---------------------------------------------------------------------------\u001b[0m",
      "\u001b[0;31mNameError\u001b[0m                                 Traceback (most recent call last)",
      "Cell \u001b[0;32mIn[2], line 1\u001b[0m\n\u001b[0;32m----> 1\u001b[0m retriever \u001b[39m=\u001b[39mvectorstore\u001b[39m.\u001b[39mas_retriever(search_kwargs\u001b[39m=\u001b[39m{\u001b[39m\"\u001b[39m\u001b[39mk\u001b[39m\u001b[39m\"\u001b[39m:\u001b[39m10\u001b[39m})\n",
      "\u001b[0;31mNameError\u001b[0m: name 'vectorstore' is not defined"
     ]
    }
   ],
   "source": [
    "retriever =vectorstore.as_retriever(search_kwargs={\"k\":10})"
   ]
  },
  {
   "cell_type": "code",
   "execution_count": 6,
   "metadata": {},
   "outputs": [],
   "source": [
    "from langchain.vectorstores.redis import Redis"
   ]
  },
  {
   "cell_type": "code",
   "execution_count": 7,
   "metadata": {},
   "outputs": [
    {
     "ename": "NameError",
     "evalue": "name 'OpenAIEmbeddings' is not defined",
     "output_type": "error",
     "traceback": [
      "\u001b[0;31m---------------------------------------------------------------------------\u001b[0m",
      "\u001b[0;31mNameError\u001b[0m                                 Traceback (most recent call last)",
      "Cell \u001b[0;32mIn[7], line 1\u001b[0m\n\u001b[0;32m----> 1\u001b[0m embeddings \u001b[39m=\u001b[39m OpenAIEmbeddings(openai_api_key \u001b[39m=\u001b[39m OPENAI_API_KEY1)\n\u001b[1;32m      2\u001b[0m vectorstore \u001b[39m=\u001b[39m Redis(\n\u001b[1;32m      3\u001b[0m     redis_url\u001b[39m=\u001b[39m\u001b[39m\"\u001b[39m\u001b[39mredis://@localhost:6380\u001b[39m\u001b[39m\"\u001b[39m,\n\u001b[1;32m      4\u001b[0m     index_name\u001b[39m=\u001b[39m\u001b[39m\"\u001b[39m\u001b[39mhistory0\u001b[39m\u001b[39m\"\u001b[39m,\n\u001b[1;32m      5\u001b[0m     embedding_function\u001b[39m=\u001b[39membeddings\u001b[39m.\u001b[39membed_query,\n\u001b[1;32m      6\u001b[0m )\n\u001b[1;32m      7\u001b[0m vectorstore\u001b[39m.\u001b[39m_create_index()\n",
      "\u001b[0;31mNameError\u001b[0m: name 'OpenAIEmbeddings' is not defined"
     ]
    }
   ],
   "source": [
    "embeddings = OpenAIEmbeddings(openai_api_key = OPENAI_API_KEY1)\n",
    "vectorstore = Redis(\n",
    "    redis_url=\"redis://@localhost:6380\",\n",
    "    index_name=\"history0\",\n",
    "    embedding_function=embeddings.embed_query,\n",
    ")\n",
    "vectorstore._create_index()\n",
    "vectorstore.add_texts([\"hello world\", \"hello world 2\"])"
   ]
  },
  {
   "cell_type": "code",
   "execution_count": 147,
   "metadata": {},
   "outputs": [],
   "source": [
    "retriever = vectorstore.as_retriever(search_type=\"similarity\",search_kwargs=dict(k=1))"
   ]
  },
  {
   "cell_type": "code",
   "execution_count": 148,
   "metadata": {},
   "outputs": [],
   "source": [
    "memory = VectorStoreRetrieverMemory(retriever=retriever,memory_key=\"history\")"
   ]
  },
  {
   "cell_type": "code",
   "execution_count": 149,
   "metadata": {},
   "outputs": [],
   "source": [
    "_DEFAULT_TEMPLATE = \"\"\"The following is a friendly conversation between a human and an AI. The AI is talkative and provides lots of specific details from its context. If the AI does not know the answer to a question, it truthfully says it does not know.\n",
    "\n",
    "Relevant pieces of previous conversation:\n",
    "{history}\n",
    "\n",
    "(You do not need to use these pieces of information if not relevant)\n",
    "\n",
    "Current conversation:\n",
    "Human: {input}\n",
    "AI:\"\"\"\n",
    "PROMPT = PromptTemplate(\n",
    "    input_variables=[\"history\", \"input\"], template=_DEFAULT_TEMPLATE\n",
    ")"
   ]
  },
  {
   "cell_type": "code",
   "execution_count": 150,
   "metadata": {},
   "outputs": [],
   "source": [
    "llm = ChatOpenAI(temperature=0)\n",
    "llmchain = ConversationChain(llm=llm,memory=memory,verbose=True,prompt=PROMPT)"
   ]
  },
  {
   "cell_type": "code",
   "execution_count": 151,
   "metadata": {},
   "outputs": [
    {
     "name": "stdout",
     "output_type": "stream",
     "text": [
      "\n",
      "\n",
      "\u001b[1m> Entering new ConversationChain chain...\u001b[0m\n",
      "Prompt after formatting:\n",
      "\u001b[32;1m\u001b[1;3mThe following is a friendly conversation between a human and an AI. The AI is talkative and provides lots of specific details from its context. If the AI does not know the answer to a question, it truthfully says it does not know.\n",
      "\n",
      "Relevant pieces of previous conversation:\n",
      "input: Hi\n",
      "response: Hello! How can I assist you today?\n",
      "input: What is my age ?\n",
      "response: Your age is 12.\n",
      "input: What is my age ?\n",
      "response: Your age is 12.\n",
      "input: What is my age ?\n",
      "response: Your age is 12.\n",
      "\n",
      "(You do not need to use these pieces of information if not relevant)\n",
      "\n",
      "Current conversation:\n",
      "Human: Hi, Suggest me an outfit for a party.\n",
      "AI:\u001b[0m\n",
      "\n",
      "\u001b[1m> Finished chain.\u001b[0m\n"
     ]
    },
    {
     "data": {
      "text/plain": [
       "\"Hello! I'd be happy to help you find an outfit for a party. Could you please provide me with some more information? What is the dress code for the party? Is there a specific theme or color scheme?\""
      ]
     },
     "execution_count": 151,
     "metadata": {},
     "output_type": "execute_result"
    }
   ],
   "source": [
    "llmchain.predict(input=\"Hi, Suggest me an outfit for a party.\")"
   ]
  },
  {
   "cell_type": "code",
   "execution_count": 153,
   "metadata": {},
   "outputs": [
    {
     "name": "stdout",
     "output_type": "stream",
     "text": [
      "\n",
      "\n",
      "\u001b[1m> Entering new ConversationChain chain...\u001b[0m\n",
      "Prompt after formatting:\n",
      "\u001b[32;1m\u001b[1;3mThe following is a friendly conversation between a human and an AI. The AI is talkative and provides lots of specific details from its context. If the AI does not know the answer to a question, it truthfully says it does not know.\n",
      "\n",
      "Relevant pieces of previous conversation:\n",
      "input: Hi, Suggest me an outfit for a party.\n",
      "response: Hello! I'd be happy to help you find an outfit for a party. Could you please provide me with some more information? What is the dress code for the party? Is there a specific theme or color scheme?\n",
      "input: What is my age ?\n",
      "response: Your age is 12.\n",
      "input: What is my age ?\n",
      "response: Your age is 12.\n",
      "input: What is my age ?\n",
      "response: Your age is 12.\n",
      "\n",
      "(You do not need to use these pieces of information if not relevant)\n",
      "\n",
      "Current conversation:\n",
      "Human: The party is a summer swimming pool party.\n",
      "AI:\u001b[0m\n",
      "\n",
      "\u001b[1m> Finished chain.\u001b[0m\n"
     ]
    },
    {
     "data": {
      "text/plain": [
       "\"That sounds like a fun event! For a summer swimming pool party, you'll want to wear something comfortable and appropriate for the water. A popular choice is a swimsuit or bikini paired with a stylish cover-up or sarong. You can also consider wearing a lightweight sundress or a tank top with shorts. Don't forget to bring a towel, sunscreen, and a pair of flip-flops or sandals for the poolside. Enjoy the party and have a great time!\""
      ]
     },
     "execution_count": 153,
     "metadata": {},
     "output_type": "execute_result"
    }
   ],
   "source": [
    "llmchain.predict(input=\"The party is a summer swimming pool party.\")"
   ]
  },
  {
   "cell_type": "code",
   "execution_count": 154,
   "metadata": {},
   "outputs": [
    {
     "name": "stdout",
     "output_type": "stream",
     "text": [
      "\n",
      "\n",
      "\u001b[1m> Entering new ConversationChain chain...\u001b[0m\n",
      "Prompt after formatting:\n",
      "\u001b[32;1m\u001b[1;3mThe following is a friendly conversation between a human and an AI. The AI is talkative and provides lots of specific details from its context. If the AI does not know the answer to a question, it truthfully says it does not know.\n",
      "\n",
      "Relevant pieces of previous conversation:\n",
      "input: The party is a summer swimming pool party.\n",
      "response: That sounds like a fun event! For a summer swimming pool party, you'll want to wear something comfortable and appropriate for the water. A popular choice is a swimsuit or bikini paired with a stylish cover-up or sarong. You can also consider wearing a lightweight sundress or a tank top with shorts. Don't forget to bring a towel, sunscreen, and a pair of flip-flops or sandals for the poolside. Enjoy the party and have a great time!\n",
      "input: Hi, Suggest me an outfit for a party.\n",
      "response: Hello! I'd be happy to help you find an outfit for a party. Could you please provide me with some more information? What is the dress code for the party? Is there a specific theme or color scheme?\n",
      "input: Hi\n",
      "response: Hello! How can I assist you today?\n",
      "input: What is my age ?\n",
      "response: Your age is 12.\n",
      "\n",
      "(You do not need to use these pieces of information if not relevant)\n",
      "\n",
      "Current conversation:\n",
      "Human: Suggest something else instead of tank top.\n",
      "AI:\u001b[0m\n",
      "\n",
      "\u001b[1m> Finished chain.\u001b[0m\n"
     ]
    },
    {
     "data": {
      "text/plain": [
       "\"Sure! Instead of a tank top, you could consider wearing a lightweight blouse or a flowy tunic. These options will still keep you cool and comfortable for the summer swimming pool party. Another alternative could be a crop top paired with high-waisted shorts or a skirt. This will give you a trendy and stylish look while still being appropriate for the occasion. Don't forget to accessorize with some statement jewelry or a cute hat to complete your outfit!\""
      ]
     },
     "execution_count": 154,
     "metadata": {},
     "output_type": "execute_result"
    }
   ],
   "source": [
    "llmchain.predict(input=\"Suggest something else instead of tank top.\")"
   ]
  },
  {
   "cell_type": "code",
   "execution_count": 155,
   "metadata": {},
   "outputs": [
    {
     "name": "stdout",
     "output_type": "stream",
     "text": [
      "\n",
      "\n",
      "\u001b[1m> Entering new ConversationChain chain...\u001b[0m\n",
      "Prompt after formatting:\n",
      "\u001b[32;1m\u001b[1;3mThe following is a friendly conversation between a human and an AI. The AI is talkative and provides lots of specific details from its context. If the AI does not know the answer to a question, it truthfully says it does not know.\n",
      "\n",
      "Relevant pieces of previous conversation:\n",
      "input: Hi, Suggest me an outfit for a party.\n",
      "response: Hello! I'd be happy to help you find an outfit for a party. Could you please provide me with some more information? What is the dress code for the party? Is there a specific theme or color scheme?\n",
      "input: The party is a summer swimming pool party.\n",
      "response: That sounds like a fun event! For a summer swimming pool party, you'll want to wear something comfortable and appropriate for the water. A popular choice is a swimsuit or bikini paired with a stylish cover-up or sarong. You can also consider wearing a lightweight sundress or a tank top with shorts. Don't forget to bring a towel, sunscreen, and a pair of flip-flops or sandals for the poolside. Enjoy the party and have a great time!\n",
      "input: Suggest something else instead of tank top.\n",
      "response: Sure! Instead of a tank top, you could consider wearing a lightweight blouse or a flowy tunic. These options will still keep you cool and comfortable for the summer swimming pool party. Another alternative could be a crop top paired with high-waisted shorts or a skirt. This will give you a trendy and stylish look while still being appropriate for the occasion. Don't forget to accessorize with some statement jewelry or a cute hat to complete your outfit!\n",
      "input: My age is 12 remember it\n",
      "response: Of course! I have noted that you are 12 years old. Is there anything specific you would like to talk about or ask me?\n",
      "\n",
      "(You do not need to use these pieces of information if not relevant)\n",
      "\n",
      "Current conversation:\n",
      "Human: Alright, Summarize the final outfit then.\n",
      "AI:\u001b[0m\n",
      "\n",
      "\u001b[1m> Finished chain.\u001b[0m\n"
     ]
    },
    {
     "data": {
      "text/plain": [
       "\"Certainly! For your summer swimming pool party, the final outfit could be a stylish swimsuit or bikini paired with a lightweight blouse or flowy tunic. This will keep you cool and comfortable while still being appropriate for the occasion. You can also consider wearing high-waisted shorts or a skirt with a crop top for a trendy and stylish look. Don't forget to accessorize with statement jewelry or a cute hat to complete your outfit. And remember to bring a towel, sunscreen, and a pair of flip-flops or sandals for the poolside. Have a fantastic time at the party!\""
      ]
     },
     "execution_count": 155,
     "metadata": {},
     "output_type": "execute_result"
    }
   ],
   "source": [
    "llmchain.predict(input=\"Alright, Summarize the final outfit then.\")"
   ]
  },
  {
   "cell_type": "code",
   "execution_count": 157,
   "metadata": {},
   "outputs": [
    {
     "name": "stdout",
     "output_type": "stream",
     "text": [
      "\n",
      "\n",
      "\u001b[1m> Entering new ConversationChain chain...\u001b[0m\n",
      "Prompt after formatting:\n",
      "\u001b[32;1m\u001b[1;3mThe following is a friendly conversation between a human and an AI. The AI is talkative and provides lots of specific details from its context. If the AI does not know the answer to a question, it truthfully says it does not know.\n",
      "\n",
      "Relevant pieces of previous conversation:\n",
      "input: Suggest something else instead of tank top.\n",
      "response: Sure! Instead of a tank top, you could consider wearing a lightweight blouse or a flowy tunic. These options will still keep you cool and comfortable for the summer swimming pool party. Another alternative could be a crop top paired with high-waisted shorts or a skirt. This will give you a trendy and stylish look while still being appropriate for the occasion. Don't forget to accessorize with some statement jewelry or a cute hat to complete your outfit!\n",
      "input: Hi, Suggest me an outfit for a party.\n",
      "response: Hello! I'd be happy to help you find an outfit for a party. Could you please provide me with some more information? What is the dress code for the party? Is there a specific theme or color scheme?\n",
      "input: Alright, Summarize the final outfit then.\n",
      "response: Certainly! For your summer swimming pool party, the final outfit could be a stylish swimsuit or bikini paired with a lightweight blouse or flowy tunic. This will keep you cool and comfortable while still being appropriate for the occasion. You can also consider wearing high-waisted shorts or a skirt with a crop top for a trendy and stylish look. Don't forget to accessorize with statement jewelry or a cute hat to complete your outfit. And remember to bring a towel, sunscreen, and a pair of flip-flops or sandals for the poolside. Have a fantastic time at the party!\n",
      "input: The party is a summer swimming pool party.\n",
      "response: That sounds like a fun event! For a summer swimming pool party, you'll want to wear something comfortable and appropriate for the water. A popular choice is a swimsuit or bikini paired with a stylish cover-up or sarong. You can also consider wearing a lightweight sundress or a tank top with shorts. Don't forget to bring a towel, sunscreen, and a pair of flip-flops or sandals for the poolside. Enjoy the party and have a great time!\n",
      "\n",
      "(You do not need to use these pieces of information if not relevant)\n",
      "\n",
      "Current conversation:\n",
      "Human: Suggest me the earlier option instead of the blouse.\n",
      "AI:\u001b[0m\n",
      "\n",
      "\u001b[1m> Finished chain.\u001b[0m\n"
     ]
    },
    {
     "data": {
      "text/plain": [
       "\"Sure! Instead of the blouse, you could consider wearing a lightweight tunic or a flowy dress. These options will still keep you cool and comfortable for the summer swimming pool party. Another alternative could be a crop top paired with high-waisted shorts or a skirt. This will give you a trendy and stylish look while still being appropriate for the occasion. Don't forget to accessorize with some statement jewelry or a cute hat to complete your outfit!\""
      ]
     },
     "execution_count": 157,
     "metadata": {},
     "output_type": "execute_result"
    }
   ],
   "source": [
    "llmchain.predict(input=\"Suggest me the earlier option instead of the blouse.\")"
   ]
  }
 ],
 "metadata": {
  "kernelspec": {
   "display_name": "Python 3",
   "language": "python",
   "name": "python3"
  },
  "language_info": {
   "codemirror_mode": {
    "name": "ipython",
    "version": 3
   },
   "file_extension": ".py",
   "mimetype": "text/x-python",
   "name": "python",
   "nbconvert_exporter": "python",
   "pygments_lexer": "ipython3",
   "version": "3.11.4"
  },
  "orig_nbformat": 4
 },
 "nbformat": 4,
 "nbformat_minor": 2
}
